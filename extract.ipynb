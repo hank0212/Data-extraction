{
 "cells": [
  {
   "cell_type": "code",
   "execution_count": 91,
   "metadata": {},
   "outputs": [],
   "source": [
    "import whisper\n",
    "import clip\n",
    "import torch\n",
    "from PIL import Image\n",
    "import numpy as np\n",
    "import shutil\n",
    "import ffmpeg\n",
    "import natsort\n",
    "from natsort import natsorted\n",
    "import os\n",
    "import subprocess\n",
    "import face_recognition\n",
    "import cv2\n",
    "from collections import defaultdict\n",
    "from io import BytesIO\n",
    "import matplotlib.pyplot as plt\n",
    "import whisperx\n",
    "import pandas as pd"
   ]
  },
  {
   "cell_type": "markdown",
   "metadata": {},
   "source": [
    "## WhisperX(Diarization with Transcription)"
   ]
  },
  {
   "cell_type": "code",
   "execution_count": 92,
   "metadata": {},
   "outputs": [],
   "source": [
    "'''\n",
    "Transcribe the video with diarization. Diarized segments assigns the id to speakers\n",
    "\n",
    "Parameters:\n",
    "video_path(str): path to the video source\n",
    "hf_token(str): huggingface token to access diarization model (optional)\n",
    "\n",
    "Returns:\n",
    "result(dict): texts from the video source with time stamps\n",
    "'''\n",
    "def speech_diarization(video_path, hf_token=None):\n",
    "\n",
    "     # transcribe\n",
    "    model = whisper.load_model(\"base\")\n",
    "    result = model.transcribe(video_path, word_timestamps=True)\n",
    "    \n",
    "    # with diarization\n",
    "    if hf_token:\n",
    "        device = \"cpu\"\n",
    "        batch_size = 16\n",
    "        compute_type = \"float16\" # change to \"int8\" if low on GPU mem (may reduce accuracy)\n",
    "\n",
    "        diarize_model = whisperx.DiarizationPipeline(use_auth_token=hf_token, device=device)\n",
    "\n",
    "        # add min/max number of speakers if known\n",
    "        diarize_segments = diarize_model(video_path)\n",
    "        # diarize_model(audio, min_speakers=min_speakers, max_speakers=max_speakers)\n",
    "        result = whisperx.assign_word_speakers(diarize_segments, result)\n",
    "        return result, diarize_segments # segments are now assigned speaker IDs\n",
    "   \n",
    "    return result"
   ]
  },
  {
   "cell_type": "markdown",
   "metadata": {},
   "source": [
    "# CLIP"
   ]
  },
  {
   "cell_type": "markdown",
   "metadata": {},
   "source": [
    "return the emotion based on a facial image"
   ]
  },
  {
   "cell_type": "code",
   "execution_count": 93,
   "metadata": {},
   "outputs": [],
   "source": [
    "'''\n",
    "return the emotion from the facial image\n",
    "\n",
    "Parameters:\n",
    "image(str): image of the face\n",
    "emotions(list): list of emotion, default is 7 emotions\n",
    "\n",
    "Returns:\n",
    "emotion(str): the most likely emotion from the image\n",
    "\n",
    "'''\n",
    "def detect_emotions(image, emotions):\n",
    "\n",
    "    device = \"cuda\" if torch.cuda.is_available() else \"cpu\"\n",
    "    model, preprocess = clip.load(\"ViT-B/16\", device=device)\n",
    "\n",
    "    image = preprocess(image).unsqueeze(0).to(device)\n",
    "    text = clip.tokenize(emotions).to(device)\n",
    "\n",
    "    with torch.no_grad():\n",
    "        image_features = model.encode_image(image)\n",
    "        text_features = model.encode_text(text)\n",
    "        \n",
    "        logits_per_image, logits_per_text = model(image, text)\n",
    "        probs = logits_per_image.softmax(dim=-1).cpu().numpy()\n",
    "\n",
    "    return emotions[np.argmax(probs)]"
   ]
  },
  {
   "cell_type": "markdown",
   "metadata": {},
   "source": [
    "# Frame Extraction"
   ]
  },
  {
   "cell_type": "markdown",
   "metadata": {},
   "source": [
    "extract the frame that has the most frequent face based on the time stamp of each sentences from the transcribed/diarized segment.\n"
   ]
  },
  {
   "cell_type": "code",
   "execution_count": 94,
   "metadata": {},
   "outputs": [],
   "source": [
    "def find_most_frequent_face(frame_data, known_faces, face_frequency):\n",
    "    SPEAKER_id = 1\n",
    "    \n",
    "    for frame in frame_data:\n",
    "        image = Image.open(BytesIO(frame))\n",
    "        np_unknown = np.array(image)\n",
    "        unknown_encoding = face_recognition.face_encodings(np_unknown)\n",
    "\n",
    "        if not unknown_encoding:\n",
    "            continue\n",
    "        \n",
    "        # face recognition \n",
    "        results = face_recognition.compare_faces(list(known_faces.values()), unknown_encoding[0], tolerance=0.7)\n",
    "\n",
    "        # known SPEAKER\n",
    "        if True in results:\n",
    "            id = list(known_faces.keys())[results.index(True)]\n",
    "            face_frequency[id] += 1\n",
    "        else: # unknown\n",
    "            known_faces[SPEAKER_id] = unknown_encoding[0] \n",
    "            face_frequency[SPEAKER_id] = 1\n",
    "            SPEAKER_id += 1\n",
    "        \n",
    "    most_frequent_face_index = max(face_frequency, key=face_frequency.get) if face_frequency else 2\n",
    "    return frame_data[most_frequent_face_index]"
   ]
  },
  {
   "cell_type": "code",
   "execution_count": 95,
   "metadata": {},
   "outputs": [],
   "source": [
    "def merge_diarized_transcripts(result, diarize_segments):\n",
    "    \"\"\"\n",
    "    Merge diarized audio segments with transcribed text, aligning based on timestamps.\n",
    "\n",
    "    Parameters:\n",
    "    diarized_segments (DataFrame): Dataframe containing diarized segments with speaker information.\n",
    "    transcription_result (dict): Dictionary containing transcribed text with word-level timestamps.\n",
    "\n",
    "    Returns:\n",
    "    list: List of tuples with format (start_time, end_time, speaker, transcribed_text)\n",
    "    \"\"\"\n",
    "\n",
    "    merged_segments = []\n",
    "    diarize_data = diarize_segments[['start', 'end', 'speaker']].to_numpy()\n",
    "\n",
    "    # Iterate through each segment in transcription_result\n",
    "    for segment in result['segments']:\n",
    "        seg_start, seg_end = segment['start'], segment['end']\n",
    "        seg_text = segment['text']\n",
    "        seg_speaker = segment.get('speaker', 'Unknown')\n",
    "\n",
    "        # Find the matching diarized segment based on time overlap\n",
    "        for diarize_start, diarize_end, diarize_speaker in diarize_data:\n",
    "            if seg_start <= diarize_end and seg_end >= diarize_start:\n",
    "                # Check if the speaker matches, if not use the diarized speaker\n",
    "                speaker = seg_speaker if seg_speaker != 'Unknown' else diarize_speaker\n",
    "\n",
    "                # Create a tuple for the merged segment\n",
    "                merged_segment = (max(seg_start, diarize_start), \n",
    "                                  min(seg_end, diarize_end), \n",
    "                                  speaker, seg_text)\n",
    "                merged_segments.append(merged_segment)\n",
    "                break\n",
    "\n",
    "    return merged_segments\n"
   ]
  },
  {
   "cell_type": "code",
   "execution_count": 96,
   "metadata": {},
   "outputs": [],
   "source": [
    "# with diarization\n",
    "def extract_frame(video_path, result, diarize_segments, frame_output_path):\n",
    "    merged_segments = merge_diarized_transcripts(result, diarize_segments)\n",
    "    \n",
    "    for i, segment in enumerate(merged_segments):\n",
    "        start, end = segment[0], segment[1]\n",
    "        interval = (end - start) / 6  # Dividing the interval into parts for 5 frames\n",
    "\n",
    "        # generate 5 images of an interval\n",
    "        frame_data = [] \n",
    "        known_faces = {}\n",
    "        face_frequency = {}\n",
    "        for j in range(1, 6):  # Looping for 5 frames\n",
    "            frame_time = start + j * interval\n",
    "\n",
    "            command = [\n",
    "                'ffmpeg', '-y', \n",
    "                '-ss', str(frame_time),\n",
    "                '-i', video_path, \n",
    "                '-frames:v', '1',\n",
    "                '-f', 'image2pipe', \n",
    "                '-vcodec', 'mjpeg', \n",
    "                'pipe:1'\n",
    "            ]\n",
    "            process = subprocess.run(command, stdout=subprocess.PIPE, stderr=subprocess.PIPE)\n",
    "            frame_data.append(process.stdout)  # Append the frame data to the list\n",
    "\n",
    "        # find the most frequent face\n",
    "        most_frequent_face_frame = find_most_frequent_face(frame_data, known_faces, face_frequency)\n",
    "\n",
    "        # export the frame as an jpg\n",
    "        filename = f\"frame_{i}.jpg\"\n",
    "        file_path = os.path.join(frame_output_path, filename)\n",
    "\n",
    "        with open(file_path, 'wb') as file:\n",
    "            file.write(most_frequent_face_frame)"
   ]
  },
  {
   "cell_type": "code",
   "execution_count": 97,
   "metadata": {},
   "outputs": [],
   "source": [
    "def extract_frame_vision_based(video_path, result, frame_output_path):\n",
    "\n",
    "    for i in range(len(result['segments'])):\n",
    "        \n",
    "        start, end = result['segments'][i]['start'], result['segments'][i]['end']\n",
    "        interval = (end - start) / 6  # Dividing the interval into parts for 5 frames\n",
    "\n",
    "        # generate 5 images of an interval\n",
    "        frame_data = [] \n",
    "        known_faces = {}\n",
    "        face_frequency = {}\n",
    "        for j in range(1, 6):  # Looping for 5 frames\n",
    "            frame_time = start + j * interval\n",
    "\n",
    "            command = [\n",
    "                'ffmpeg', '-y', \n",
    "                '-ss', str(frame_time),\n",
    "                '-i', video_path, \n",
    "                '-frames:v', '1',\n",
    "                '-f', 'image2pipe', \n",
    "                '-vcodec', 'mjpeg', \n",
    "                'pipe:1'\n",
    "            ]\n",
    "            process = subprocess.run(command, stdout=subprocess.PIPE, stderr=subprocess.PIPE)\n",
    "            frame_data.append(process.stdout)  # Append the frame data to the list\n",
    "\n",
    "        # find the most frequent face\n",
    "        most_frequent_face_frame = find_most_frequent_face(frame_data, known_faces, face_frequency)\n",
    "\n",
    "        # export the frame as an jpg\n",
    "        filename = f\"frame_{i}.jpg\"\n",
    "        file_path = os.path.join(frame_output_path, filename)\n",
    "\n",
    "        with open(file_path, 'wb') as file:\n",
    "            file.write(most_frequent_face_frame)"
   ]
  },
  {
   "cell_type": "markdown",
   "metadata": {},
   "source": [
    "## Audio Based Frame Extraction"
   ]
  },
  {
   "cell_type": "code",
   "execution_count": 98,
   "metadata": {},
   "outputs": [],
   "source": [
    "def extract_frame_audio_based(frame_id, video_path, start, end):\n",
    "    \n",
    "    path_parts = video_path.split('/')\n",
    "    frame_output_path = '/'.join(path_parts[:-1]) + '/frames/'\n",
    "    os.makedirs(frame_output_path, exist_ok=True)\n",
    "\n",
    "    interval = (end - start) / 6  # Dividing the interval into parts for 5 frames\n",
    "\n",
    "    # generate 5 images of an interval\n",
    "    frame_data = [] \n",
    "    known_faces = {}\n",
    "    face_frequency = {}\n",
    "    for j in range(1, 6):  # Looping for 5 frames\n",
    "        frame_time = start + j * interval\n",
    "\n",
    "        command = [\n",
    "            'ffmpeg', '-y', \n",
    "            '-ss', str(frame_time),\n",
    "            '-i', video_path, \n",
    "            '-frames:v', '1',\n",
    "            '-f', 'image2pipe', \n",
    "            '-vcodec', 'mjpeg', \n",
    "            'pipe:1'\n",
    "        ]\n",
    "        process = subprocess.run(command, stdout=subprocess.PIPE, stderr=subprocess.PIPE)\n",
    "        frame_data.append(process.stdout)  # Append the frame data to the list\n",
    "\n",
    "    # find the most frequent face\n",
    "    most_frequent_face_frame = find_most_frequent_face(frame_data, known_faces, face_frequency)\n",
    "\n",
    "    # export the frame as an jpg\n",
    "    filename = f\"frame_{frame_id}.jpg\"\n",
    "    file_path = os.path.join(frame_output_path, filename)\n",
    "\n",
    "    with open(file_path, 'wb') as file:\n",
    "        file.write(most_frequent_face_frame)\n",
    "    \n",
    "    return file_path"
   ]
  },
  {
   "cell_type": "markdown",
   "metadata": {},
   "source": [
    "# Face Detection"
   ]
  },
  {
   "cell_type": "markdown",
   "metadata": {},
   "source": [
    "Store and retrieve the faces from the image. "
   ]
  },
  {
   "cell_type": "code",
   "execution_count": 99,
   "metadata": {},
   "outputs": [],
   "source": [
    "'''\n",
    "Store and retrieve the faces from the image. \n",
    "\n",
    "Parameters:\n",
    "img_path(str): path to the image \n",
    "SPEAKER(str): current speaker \n",
    "SPEAKER_id(int): id for the speaker to keep track of\n",
    "emotions(list): all possible emotions \n",
    "known_faces(dict): faces that have appeared before:\n",
    "emotion_scores(dict): the emotion of each characters as the dialogue progres\n",
    "\n",
    "Returns:\n",
    "Updated SPEAKER, SPEAKER_id, emotion, emotion_scores\n",
    "'''\n",
    "\n",
    "def face_detection(img_path, SPEAKER, SPEAKER_id, emotions, known_faces, emotion_scores):\n",
    "    image = face_recognition.load_image_file(img_path)\n",
    "    face_locations = face_recognition.face_locations(image)\n",
    "    emotion = 'Neutral'\n",
    "\n",
    "    # face detected\n",
    "    if face_locations:\n",
    "        largest_face = max(face_locations, key=lambda loc: (loc[2] - loc[0]) * (loc[1] - loc[3]))\n",
    "\n",
    "        # process faces \n",
    "        top, right, bottom, left = largest_face\n",
    "        face_image = image[top:bottom, left:right]\n",
    "        pil_image = Image.fromarray(face_image)\n",
    "        emotion = detect_emotions(pil_image, emotions)\n",
    "\n",
    "        np_unknown = np.array(pil_image)\n",
    "        unknown_encoding = face_recognition.face_encodings(np_unknown)\n",
    "\n",
    "        # face can be encoded\n",
    "        if unknown_encoding:\n",
    "            results = face_recognition.compare_faces(list(known_faces.values()), unknown_encoding[0], tolerance=0.7)\n",
    "\n",
    "            # Check if a SPEAKER is identified\n",
    "            if True in results:\n",
    "                SPEAKER = list(known_faces.keys())[results.index(True)]   \n",
    "            else:\n",
    "                known_faces[f'SPEAKER {SPEAKER_id}'] = unknown_encoding[0] # add new SPEAKER to known\n",
    "                SPEAKER = f'SPEAKER {SPEAKER_id}'\n",
    "                SPEAKER_id += 1\n",
    "            \n",
    "            # emotion scores\n",
    "            emotion_scores.append({SPEAKER:emotion})\n",
    "    \n",
    "    return SPEAKER, SPEAKER_id, emotion, emotion_scores"
   ]
  },
  {
   "cell_type": "markdown",
   "metadata": {},
   "source": [
    "# Data Extraction\n",
    "\n",
    "Vision based: \n",
    "Frames are extracted prior to the assignement of speakers. Based on the transcribed/diarized audio time stamp to excerpt the frames thas has the most frequent faces with face detection. \n",
    "\n",
    "Audio based:\n",
    "Frames are extracted based on the diarized segments. The assignment of speakers is from the diarized model. "
   ]
  },
  {
   "cell_type": "markdown",
   "metadata": {},
   "source": [
    "## Vision Based Data Extraction"
   ]
  },
  {
   "cell_type": "code",
   "execution_count": 100,
   "metadata": {},
   "outputs": [],
   "source": [
    "def extract_data_vision(video_path, emotions_dict, hf_token, result, diarize_segments):\n",
    "    path_parts = video_path.split('/')\n",
    "    frame_output_path = '/'.join(path_parts[:-1]) + '/frames/'\n",
    "    \n",
    "    if os.path.exists(frame_output_path):\n",
    "        shutil.rmtree(frame_output_path)\n",
    "        \n",
    "    os.makedirs(frame_output_path, exist_ok=True)\n",
    "    extract_frame(video_path, result, diarize_segments, frame_output_path)\n",
    "\n",
    "    dialogue = \"\"\n",
    "    known_faces = {}\n",
    "    SPEAKER_id = 1\n",
    "    SPEAKER = 'SPEAKER 1'\n",
    "    current_speaker = None\n",
    "    emotions = list(emotions_dict.keys())\n",
    "    emotion_scores = []\n",
    "    files = natsorted(os.listdir(frame_output_path))\n",
    "    \n",
    "    # iterate through frames\n",
    "    for i, file in enumerate(files):\n",
    "        sentence = result['segments'][i]['text']\n",
    "        img_path = os.path.join(frame_output_path, file)\n",
    "        SPEAKER, SPEAKER_id, emotion, emotion_scores = face_detection(img_path, SPEAKER, SPEAKER_id, emotions, known_faces, emotion_scores)\n",
    "                                 \n",
    "        # speaker changed\n",
    "        if current_speaker != SPEAKER:\n",
    "            current_speaker = SPEAKER\n",
    "\n",
    "            dialogue += f\"\\n{current_speaker}({emotion}):\"\n",
    "            print(f\"\\n{current_speaker}({emotion}):\", end=\"\")\n",
    "\n",
    "        dialogue += sentence\n",
    "        print(sentence, end=\"\")        \n",
    "\n",
    "    return dialogue, emotion_scores  "
   ]
  },
  {
   "cell_type": "markdown",
   "metadata": {},
   "source": [
    "## Audio Based Data Extraction "
   ]
  },
  {
   "cell_type": "code",
   "execution_count": 101,
   "metadata": {},
   "outputs": [],
   "source": [
    "def extract_data_audio(video_path, emotions_dict, hf_token, result, diarize_segments):\n",
    "    \n",
    "    current_speaker = None\n",
    "    dialogue = \"\"\n",
    "    known_faces = {}\n",
    "    SPEAKER_id = 1\n",
    "    frame_id = 1\n",
    "    emotions = list(emotions_dict.keys())\n",
    "    emotion_scores = []\n",
    "\n",
    "    for segment in result['segments']:\n",
    "        text = segment['text']\n",
    "        start = segment['start']\n",
    "        end = segment['end'] \n",
    "        SPEAKER = segment.get('speaker', None)\n",
    "\n",
    "        if current_speaker != SPEAKER:\n",
    "            img_path = extract_frame_audio_based(frame_id, video_path, start, end)\n",
    "            frame_id += 1\n",
    "            _, SPEAKER_id, emotion, emotion_scores = face_detection(img_path, current_speaker, SPEAKER_id, emotions, known_faces, emotion_scores)\n",
    "            print(f\"\\n{SPEAKER}({emotion}): \", end=\"\")\n",
    "            current_speaker = SPEAKER\n",
    "            dialogue += f\"\\n{SPEAKER}({emotion}): \"\n",
    "        \n",
    "        print(text, end=\"\")\n",
    "        dialogue += text\n",
    "\n",
    "    return dialogue, emotion_scores"
   ]
  },
  {
   "cell_type": "markdown",
   "metadata": {},
   "source": [
    "# Audio + Vision (havn't done yet)"
   ]
  },
  {
   "cell_type": "code",
   "execution_count": 102,
   "metadata": {},
   "outputs": [],
   "source": [
    "def extract_audio_vision(video_path, emotions_dict, hf_token):\n",
    "    current_spkear = None\n",
    "    dialogue = \"\"\n",
    "    known_faces = {}\n",
    "    SPEAKER_id = 1\n",
    "    frame_id = 1\n",
    "    vision_current_speaker = None\n",
    "    audio_current_speaker = None\n",
    "    emotions = list(emotions_dict.keys())\n",
    "    emotion_scores = []\n",
    "    result, diarize_segments = speech_diarization(video_path, hf_token)\n",
    "\n",
    "    for segment in result['segments']:\n",
    "        text = segment['text']\n",
    "        start = segment['start']\n",
    "        end = segment['end'] \n",
    "        audio_SPEAKER = segment['speaker']\n",
    "\n",
    "        # extract frame\n",
    "        img_path = extract_frame_audio_based(frame_id, video_path, start, end)\n",
    "        frame_id += 1\n",
    "        vision_SPEAKER, SPEAKER_id, emotion, emotion_scores = face_detection(img_path, SPEAKER_id, emotions, known_faces, emotion_scores)\n",
    "\n",
    "        if audio_current_speaker != audio_SPEAKER and vision_current_speaker != vision_SPEAKER: \n",
    "            if vision_SPEAKER is None:\n",
    "                vision_SPEAKER = audio_SPEAKER \n",
    "            print(f\"\\n{vision_SPEAKER}({emotion}): \", end=\"\")\n",
    "            dialogue += f\"\\n{vision_SPEAKER}({emotion}):\"\n",
    "\n",
    "            audio_current_speaker = audio_SPEAKER\n",
    "            vision_current_speaker = vision_SPEAKER\n",
    "        \n",
    "        print(text, end=\"\")\n",
    "        dialogue += text\n"
   ]
  },
  {
   "cell_type": "markdown",
   "metadata": {},
   "source": [
    "# Test"
   ]
  },
  {
   "cell_type": "code",
   "execution_count": 114,
   "metadata": {},
   "outputs": [],
   "source": [
    "# scores and emotions mapping\n",
    "emotions_dict = {\n",
    "    \"Neutral\": 0.5,\n",
    "    \"Happy\": 1,\n",
    "    \"Sad\": 0,\n",
    "    \"Surprised\": 0.6,\n",
    "    \"Afraid\": 0.1,\n",
    "    \"Disgusted\": 0.2,\n",
    "    \"Angry\": 0.1,\n",
    "    \"Contempt\": 0.3\n",
    "}\n",
    "\n",
    "emotions = list(emotions_dict.keys())"
   ]
  },
  {
   "cell_type": "markdown",
   "metadata": {},
   "source": [
    "### Brooklyn nine nine"
   ]
  },
  {
   "cell_type": "code",
   "execution_count": 105,
   "metadata": {},
   "outputs": [
    {
     "data": {
      "text/plain": [
       "\"\\nSPEAKER 1(Angry): You wanted to see me, sir?\\nSPEAKER 2(Neutral): We have a situation in his bag. Check your email. \\nSPEAKER 1(Suprised): No. \\nSPEAKER 2(Angry):Yes, Kevin insists on you and Marcus joining us for dinner at our house. \\nSPEAKER 1(Angry): We agreed to keep our personal and professional lives separate. It is weird enough I am dating your nephew without dragging your husband and dog into it.\\nSPEAKER 2(Surprised): You think I want this because I do not want this? Sadly, Marcus and Kevin can be held off no longer.\\nSPEAKER 1(Angry): Okay. So what's our play here? My stomach is a little off. I could say I am sick.\\nSPEAKER 2(Angry): Well, I have used this sick excuse for you eight times. I think they are catching on.\\nSPEAKER 1(Angry): You could say you are sick.\\nSPEAKER 2(Surprised): No way would ever believe that. No. This is happening.\\nSPEAKER 1(Angry): But don't worry.\\nSPEAKER 2(Surprised): I have a plan to keep things from getting too personal. I am inviting some intimacy buffers.\\nSPEAKER 3(Surprised): Dinner party at your house? Oh mama!\\nSPEAKER 4(Surprised): I will be there. All I ask is that you clear the furniture out of your living room so I can show calves some of my new dance opera.\\nSPEAKER 1(Sad): Why just some of it? Do the whole thing. \\nSPEAKER 2(Surprised): Yes, nothing would make me happier. See you Thursday at 8.\\n\""
      ]
     },
     "execution_count": 105,
     "metadata": {},
     "output_type": "execute_result"
    }
   ],
   "source": [
    "# ideal output\n",
    "'''\n",
    "SPEAKER 1(Angry): You wanted to see me, sir?\n",
    "SPEAKER 2(Neutral): We have a situation in his bag. Check your email. \n",
    "SPEAKER 1(Suprised): No. \n",
    "SPEAKER 2(Angry):Yes, Kevin insists on you and Marcus joining us for dinner at our house. \n",
    "SPEAKER 1(Angry): We agreed to keep our personal and professional lives separate. It is weird enough I am dating your nephew without dragging your husband and dog into it.\n",
    "SPEAKER 2(Surprised): You think I want this because I do not want this? Sadly, Marcus and Kevin can be held off no longer.\n",
    "SPEAKER 1(Angry): Okay. So what's our play here? My stomach is a little off. I could say I am sick.\n",
    "SPEAKER 2(Angry): Well, I have used this sick excuse for you eight times. I think they are catching on.\n",
    "SPEAKER 1(Angry): You could say you are sick.\n",
    "SPEAKER 2(Surprised): No way would ever believe that. No. This is happening.\n",
    "SPEAKER 1(Angry): But don't worry.\n",
    "SPEAKER 2(Surprised): I have a plan to keep things from getting too personal. I am inviting some intimacy buffers.\n",
    "SPEAKER 3(Surprised): Dinner party at your house? Oh mama!\n",
    "SPEAKER 4(Surprised): I will be there. All I ask is that you clear the furniture out of your living room so I can show calves some of my new dance opera.\n",
    "SPEAKER 1(Sad): Why just some of it? Do the whole thing. \n",
    "SPEAKER 2(Surprised): Yes, nothing would make me happier. See you Thursday at 8.\n",
    "'''"
   ]
  },
  {
   "cell_type": "code",
   "execution_count": 106,
   "metadata": {},
   "outputs": [
    {
     "name": "stdout",
     "output_type": "stream",
     "text": [
      "\n",
      "SPEAKER 1(Contempt): You wanted to see me, sir? We have a situation in his bag. Check your email. No. Yes, Kevin insists on you and Marcus joining us for dinner at our house. We agreed to keep our personal and professional lives separate. It is weird enough I am dating your nephew without dragging your husband and dog into it.\n",
      "SPEAKER 2(Surprised): You think I want this because I do not want this? Sadly, Marcus and Kevin can be held off no longer.\n",
      "SPEAKER 1(Sad): Okay. So what's our play here? My stomach is a little off. I could say I am sick.\n",
      "SPEAKER 2(Contempt): Well, I have used this sick excuse for you eight times. I think they are catching on.\n",
      "SPEAKER 1(Contempt): You could say you are sick.\n",
      "SPEAKER 2(Contempt): No way would ever believe that. No. This is happening.\n",
      "SPEAKER 1(Contempt): But don't worry.\n",
      "SPEAKER 2(Sad): I have a plan to keep things from getting too personal. I am inviting some intimacy buffers.\n",
      "SPEAKER 3(Surprised): Dinner party at your house? Oh mama!\n",
      "SPEAKER 1(Contempt): I will be there.\n",
      "SPEAKER 4(Surprised): All I ask is that you clear the furniture out of your living room so I can show calves some of my new dance opera.\n",
      "SPEAKER 1(Contempt): Why just some of it? Do the whole thing. Yes, nothing would make me happier. See you Thursday at 8."
     ]
    }
   ],
   "source": [
    "# vision based test\n",
    "video_path = 'tv clips/nine-nine/nine-nine.mp4'\n",
    "# hugging face token\n",
    "hf_token = '<>' \n",
    "\n",
    "result, diarize_segments = speech_diarization(video_path, hf_token)\n",
    "dialogue, emotion_scores = extract_data_vision(video_path, emotions_dict, hf_token, result, diarize_segments)"
   ]
  },
  {
   "cell_type": "code",
   "execution_count": 107,
   "metadata": {},
   "outputs": [
    {
     "name": "stdout",
     "output_type": "stream",
     "text": [
      "\n",
      "SPEAKER_01(Contempt):  You wanted to see me, sir?\n",
      "SPEAKER_00(Neutral):  We have a situation in his bag. Check your email.\n",
      "SPEAKER_01(Surprised):  No.\n",
      "SPEAKER_00(Surprised):  Yes, Kevin insists on you and Marcus joining us for dinner at our house.\n",
      "SPEAKER_01(Contempt):  We agreed to keep our personal and professional lives separate. It is weird enough I am dating your nephew without dragging your husband and dog into it.\n",
      "SPEAKER_00(Surprised):  You think I want this because I do not want this? Sadly, Marcus and Kevin can be held off no longer.\n",
      "SPEAKER_01(Contempt):  Okay. So what's our play here? My stomach is a little off. I could say I am sick.\n",
      "SPEAKER_00(Contempt):  Well, I have used this sick excuse for you eight times. I think they are catching on.\n",
      "SPEAKER_01(Contempt):  You could say you are sick.\n",
      "SPEAKER_00(Contempt):  No way would ever believe that. No. This is happening. But don't worry. I have a plan to keep things from getting too personal. I am inviting some intimacy buffers.\n",
      "SPEAKER_01(Surprised):  Dinner party at your house? Oh mama! I will be there. All I ask is that you clear the furniture out of your living room so I can show calves some of my new dance opera. Why just some of it? Do the whole thing.\n",
      "SPEAKER_00(Neutral):  Yes, nothing would make me happier. See you Thursday at 8."
     ]
    }
   ],
   "source": [
    "# audio based\n",
    "dialogue, emotion_scores = extract_data_audio(video_path, emotions_dict, hf_token, result, diarize_segments)"
   ]
  },
  {
   "cell_type": "markdown",
   "metadata": {},
   "source": [
    "### The devil wears prada"
   ]
  },
  {
   "cell_type": "code",
   "execution_count": 108,
   "metadata": {},
   "outputs": [
    {
     "data": {
      "text/plain": [
       "\"\\nSPEAKER 1(Surprised): Who are you?\\nSPEAKER 2(Neutral): Uh, my name is Andy Sachs. I recently graduated from Northwestern University.\\nSPEAKER 1(Surprised): And what are you doing here?\\nSPEAKER 2(Surprised): Well, I think I could do a good job as your assistant. And, um... Yeah, I came to New York to be a journalist and sent letters out everywhere and then finally got a call from a wise clerk and met with Cherry up at human resources. And basically, it's this or auto universe. \\nSPEAKER 1(Surprised): So you don't read runway?  And before today, you had never heard of me? \\nNo.\\nSPEAKER 2(Surprised): Uh, no.\\nSPEAKER 1(Angry): And you have no style or sense of fashion? \\nSPEAKER 2(Sad): Well, um... I think that depends on what you're... \\nSPEAKER 1(Angry): You know, that was a new question. Um... \\nSPEAKER 2(neutral): I was editor in chief of the Daily Northwestern. I also, um, won a national competition for a college journalist with my series on the janitor's union, which explores the exploitation of... \\nSPEAKER 1(Contempt): Thats all\\nSPEAKER 2(Surprised): Yeah, you know, okay. You're right. I don't fit in here. I am not skinny or glamorous and I don't know that much about fashion, but I'm smart. I learn fast and I will work very hard. \\nSPEAKER 3(Surprised): All right, I got the exclusive on the Cavali for Guina. But the problem is with a huge feathered headdress, that she's wearing. She looks like she's working the mainstages, golden nugget. \\nSPEAKER 2(Sad): Thank you for your time.\\n\""
      ]
     },
     "execution_count": 108,
     "metadata": {},
     "output_type": "execute_result"
    }
   ],
   "source": [
    "# ideal output\n",
    "'''\n",
    "SPEAKER 1(Surprised): Who are you?\n",
    "SPEAKER 2(Neutral): Uh, my name is Andy Sachs. I recently graduated from Northwestern University.\n",
    "SPEAKER 1(Surprised): And what are you doing here?\n",
    "SPEAKER 2(Surprised): Well, I think I could do a good job as your assistant. And, um... Yeah, I came to New York to be a journalist and sent letters out everywhere and then finally got a call from a wise clerk and met with Cherry up at human resources. And basically, it's this or auto universe. \n",
    "SPEAKER 1(Surprised): So you don't read runway?  And before today, you had never heard of me? \n",
    "No.\n",
    "SPEAKER 2(Surprised): Uh, no.\n",
    "SPEAKER 1(Angry): And you have no style or sense of fashion? \n",
    "SPEAKER 2(Sad): Well, um... I think that depends on what you're... \n",
    "SPEAKER 1(Angry): You know, that was a new question. Um... \n",
    "SPEAKER 2(neutral): I was editor in chief of the Daily Northwestern. I also, um, won a national competition for a college journalist with my series on the janitor's union, which explores the exploitation of... \n",
    "SPEAKER 1(Contempt): Thats all\n",
    "SPEAKER 2(Surprised): Yeah, you know, okay. You're right. I don't fit in here. I am not skinny or glamorous and I don't know that much about fashion, but I'm smart. I learn fast and I will work very hard. \n",
    "SPEAKER 3(Surprised): All right, I got the exclusive on the Cavali for Guina. But the problem is with a huge feathered headdress, that she's wearing. She looks like she's working the mainstages, golden nugget. \n",
    "SPEAKER 2(Sad): Thank you for your time.\n",
    "'''"
   ]
  },
  {
   "cell_type": "code",
   "execution_count": 109,
   "metadata": {},
   "outputs": [
    {
     "name": "stdout",
     "output_type": "stream",
     "text": [
      "\n",
      "SPEAKER 1(Contempt): Who are you?\n",
      "SPEAKER 2(Angry): Uh, my name is Andy Sachs. I recently graduated from Northwestern University.\n",
      "SPEAKER 1(Contempt): And what are you doing here?\n",
      "SPEAKER 2(Surprised): Well, I think I could do a good job as your assistant. And, um... Yeah, I came to New York to be a journalist and sent letters out everywhere and then finally got a call from a wise clerk and met with Cherry up at human resources. And basically, it's this or auto universe. So you don't read runway? Uh, no. And before today, you had never heard of me?\n",
      "SPEAKER 1(Contempt): No.\n",
      "SPEAKER 2(Surprised): And you have no style or sense of fashion? Well, um... I think that depends on what you're... You know, that was a new question. Um... I was editor in chief of the Daily Northwestern. I also, um, won a national competition for a college journalist with my series on the janitor's union, which explores the exploitation of... Yeah, you know, okay.\n",
      "SPEAKER 1(Contempt): You're right. I don't fit in here.\n",
      "SPEAKER 2(Surprised): I am not skinny or glamorous and I don't know that much about fashion,\n",
      "SPEAKER 1(Contempt): but I'm smart. I learn fast and I will work very hard. All right, I got the exclusive on the Cavali for Guina.\n",
      "SPEAKER 2(Surprised): But the problem is with a huge feathered headdress\n",
      "SPEAKER 3(Surprised): that she's wearing.\n",
      "SPEAKER 1(Contempt): She looks like she's working the mainstages, golden nugget. Thank you for your time."
     ]
    }
   ],
   "source": [
    "# vision based\n",
    "video_path = 'tv clips/the devil wears prada/prada devil.mp4'\n",
    "result, diarize_segments = speech_diarization(video_path, hf_token)\n",
    "dialogue, emotion_scores = extract_data_vision(video_path, emotions_dict, hf_token, result, diarize_segments)"
   ]
  },
  {
   "cell_type": "code",
   "execution_count": 110,
   "metadata": {},
   "outputs": [
    {
     "name": "stdout",
     "output_type": "stream",
     "text": [
      "\n",
      "SPEAKER_03(Contempt):  Who are you?\n",
      "SPEAKER_02(Angry):  Uh, my name is Andy Sachs. I recently graduated from Northwestern University.\n",
      "SPEAKER_03(Contempt):  And what are you doing here?\n",
      "SPEAKER_02(Happy):  Well, I think I could do a good job as your assistant.\n",
      "None(Neutral):  And, um...\n",
      "SPEAKER_02(Sad):  Yeah, I came to New York to be a journalist and sent letters out everywhere and then finally got a call from a wise clerk and met with Cherry up at human resources. And basically, it's this or auto universe. So you don't read runway?\n",
      "SPEAKER_03(Surprised):  Uh, no. And before today, you had never heard of me? No. And you have no style or sense of fashion?\n",
      "None(Happy):  Well, um...\n",
      "SPEAKER_03(Sad):  I think that depends on what you're... You know, that was a new question.\n",
      "None(Surprised):  Um...\n",
      "SPEAKER_02(Sad):  I was editor in chief of the Daily Northwestern. I also, um, won a national competition for a college journalist with my series on the janitor's union, which explores the exploitation of... Yeah, you know, okay. You're right. I don't fit in here. I am not skinny or glamorous and I don't know that much about fashion, but I'm smart. I learn fast and I will work very hard.\n",
      "SPEAKER_01(Surprised):  All right, I got the exclusive on the Cavali for Guina. But the problem is with a huge feathered headdress that she's wearing. She looks like she's working the mainstages, golden nugget.\n",
      "SPEAKER_02(Surprised):  Thank you for your time.\n",
      "SPEAKER_01(Contempt):  Is that sad little person? Are we doing it before and after, piece? I don't know."
     ]
    }
   ],
   "source": [
    "# audio based\n",
    "dialogue, emotion_scores = extract_data_audio(video_path, emotions_dict, hf_token, result, diarize_segments)"
   ]
  },
  {
   "cell_type": "markdown",
   "metadata": {},
   "source": [
    "issues:\n",
    "1. Vision based works better at speaker speaker recognition but worse at assigning texts\n",
    "2. Audio based can't detect speakers very well\n",
    "3. Hard to detect the person talking when multiple people are in the same frame \n",
    "\n"
   ]
  },
  {
   "cell_type": "markdown",
   "metadata": {},
   "source": [
    "# Emotion Flow"
   ]
  },
  {
   "cell_type": "code",
   "execution_count": 128,
   "metadata": {},
   "outputs": [],
   "source": [
    "def emotion_flow(emotion_scores, emotions_dict):\n",
    "    # initialize scores\n",
    "    SPEAKER_scores = {}\n",
    "    index = 0\n",
    "    for score_dict in emotion_scores:\n",
    "        for SPEAKER, score in score_dict.items():\n",
    "            if SPEAKER not in SPEAKER_scores:\n",
    "                SPEAKER_scores[SPEAKER] = {}\n",
    "\n",
    "            SPEAKER_scores[SPEAKER][index] = emotions_dict[score]\n",
    "            index += 1\n",
    "\n",
    "    for SPEAKER in SPEAKER_scores:\n",
    "        indices_scores = SPEAKER_scores[SPEAKER]\n",
    "        indices = list(indices_scores.keys())\n",
    "        scores = list(indices_scores.values())\n",
    "        plt.plot(indices, scores, label=SPEAKER, marker='o')\n",
    "\n",
    "    plt.ylim(0, 1)\n",
    "    plt.title('Emotion Flow')\n",
    "    plt.xlabel('conersation')\n",
    "    plt.ylabel('mood')\n",
    "\n",
    "    plt.legend()\n",
    "    plt.show()"
   ]
  },
  {
   "cell_type": "code",
   "execution_count": 129,
   "metadata": {},
   "outputs": [
    {
     "data": {
      "image/png": "[encoded data removed]",
      "text/plain": [
       "<Figure size 640x480 with 1 Axes>"
      ]
     },
     "metadata": {},
     "output_type": "display_data"
    }
   ],
   "source": [
    "emotion_flow(emotion_scores, emotions_dict)"
   ]
  },
  {
   "cell_type": "markdown",
   "metadata": {},
   "source": [
    "# GPT-4 QA"
   ]
  },
  {
   "cell_type": "code",
   "execution_count": 123,
   "metadata": {},
   "outputs": [],
   "source": [
    "import openai\n",
    "openai.api_key = '<api key>'\n",
    "import pandas as pd\n",
    "import json\n",
    "import numpy as np\n",
    "import time"
   ]
  },
  {
   "cell_type": "code",
   "execution_count": 124,
   "metadata": {},
   "outputs": [],
   "source": [
    "def chat(input, model, prompt=None):\n",
    "    message = [{\"role\": \"system\", \"content\": prompt},\n",
    "              {\"role\": \"user\", \"content\": input}]\n",
    "    completion = openai.ChatCompletion.create(model=model,messages=message)\n",
    "    reply_content = completion.choices[0].message.content\n",
    "\n",
    "    return reply_content\n",
    "\n",
    "def QA(prompt, dialogue, question):\n",
    "    data = {}\n",
    "    input = f\"{dialogue} Answer this question: {question}\"\n",
    "\n",
    "    data['text'] = prompt\n",
    "    data['question'] = input\n",
    "    answer = chat(input, 'gpt-4', prompt)\n",
    "    \n",
    "    return answer, data"
   ]
  },
  {
   "cell_type": "code",
   "execution_count": 1,
   "metadata": {},
   "outputs": [],
   "source": [
    "question_1 = \"What is the social relation between SPEAKER 1 and SPEAKER 2?\"\n",
    "question_2 = \"Why does SPEAKER 1 want to invite SPEAKER 3 and SPEAKER 4?\"\n",
    "question_3 = \"What would you guess how does SPEAKER 3 feels about SPEAKER 1\"\n",
    "question_4 = \"Based on this interaction, analyze the personality of each SPEAKER\""
   ]
  },
  {
   "cell_type": "code",
   "execution_count": null,
   "metadata": {},
   "outputs": [],
   "source": [
    "prompt = \"Read the following context: \"\n",
    "question = question_4\n",
    "\n",
    "answer, data = QA(prompt, dialogue, question)\n",
    "print(data)"
   ]
  }
 ],
 "metadata": {
  "kernelspec": {
   "display_name": "Python 3",
   "language": "python",
   "name": "python3"
  },
  "language_info": {
   "codemirror_mode": {
    "name": "ipython",
    "version": 3
   },
   "file_extension": ".py",
   "mimetype": "text/x-python",
   "name": "python",
   "nbconvert_exporter": "python",
   "pygments_lexer": "ipython3",
   "version": "3.11.5"
  }
 },
 "nbformat": 4,
 "nbformat_minor": 2
}
